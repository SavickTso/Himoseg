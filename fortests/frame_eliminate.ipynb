{
 "cells": [
  {
   "cell_type": "code",
   "execution_count": 42,
   "metadata": {},
   "outputs": [
    {
     "name": "stdout",
     "output_type": "stream",
     "text": [
      "[44  2 84 34  5  1 99 29 90 79]\n",
      "torch.Size([90, 90])\n"
     ]
    }
   ],
   "source": [
    "import time\n",
    "import torch \n",
    "import numpy as np\n",
    "from scipy.cluster.hierarchy import linkage, dendrogram, fcluster\n",
    "import matplotlib.pyplot as plt\n",
    "\n",
    "# Generate sample data\n",
    "seed = 42\n",
    "np.random.seed(seed)\n",
    "\n",
    "torch.manual_seed(seed)\n",
    "torch.cuda.manual_seed(seed)\n",
    "torch.backends.cudnn.deterministic = True\n",
    "torch.use_deterministic_algorithms = True\n",
    "\n",
    "## start \n",
    "tensor_2d = torch.rand(100, 100)\n",
    "sum_list=[]\n",
    "for i in range(100): \n",
    "    sum_list.append(torch.sum(tensor_2d[:, i]) # sum of ith row \n",
    "        + torch.sum(tensor_2d[i, :]) # sum of ith column\n",
    "        - tensor_2d[i, i]) # delete the duplicate value\n",
    "\n",
    "\n",
    "\n",
    "eliminate_indices = np.argsort(sum_list)[:10] \n",
    "print(eliminate_indices)\n",
    "\n",
    "\n",
    "keep_indices = torch.tensor(range(100))[~torch.isin(torch.tensor(range(100)), torch.tensor(eliminate_indices))]\n",
    "tensor_eliminated = tensor_2d[keep_indices][:, keep_indices]\n",
    "print(tensor_eliminated.shape)\n",
    "\n",
    "\n",
    "# result_array = np.where(np.arange(100) == eliminate_indices[:, None], 1, 0)\n",
    "\n",
    "# np.ones(100)-eliminate_indices"
   ]
  },
  {
   "cell_type": "code",
   "execution_count": 78,
   "metadata": {},
   "outputs": [
    {
     "name": "stdout",
     "output_type": "stream",
     "text": [
      "sum_list.shape torch.Size([100])\n",
      "keepindices.shape torch.Size([90])\n",
      "keepindices.shape torch.Size([90])\n"
     ]
    },
    {
     "data": {
      "text/plain": [
       "tensor([[0.1391, 0.6287, 0.1732,  ..., 0.2334, 0.7894, 0.3108],\n",
       "        [0.1162, 0.4568, 0.4720,  ..., 0.4970, 0.6782, 0.0195],\n",
       "        [0.5927, 0.9907, 0.9064,  ..., 0.5642, 0.5358, 0.2363],\n",
       "        ...,\n",
       "        [0.8791, 0.3773, 0.2866,  ..., 0.6580, 0.4450, 0.8967],\n",
       "        [0.5484, 0.0074, 0.3120,  ..., 0.5515, 0.1742, 0.8009],\n",
       "        [0.8953, 0.1670, 0.5482,  ..., 0.4421, 0.1089, 0.3625]])"
      ]
     },
     "execution_count": 78,
     "metadata": {},
     "output_type": "execute_result"
    }
   ],
   "source": [
    "\n",
    "torch.manual_seed(seed)\n",
    "torch.cuda.manual_seed(seed)\n",
    "torch.backends.cudnn.deterministic = True\n",
    "torch.use_deterministic_algorithms = True\n",
    "tensor_2d = torch.rand(100, 100)\n",
    "\n",
    "def eliminate_frames(tensor_2d, desired_length):\n",
    "    '''For least relative node/frame elimination'''\n",
    "    # Sum all frames' values both horizontally and vertically\n",
    "    sum_list = torch.sum(tensor_2d, dim=-1) + torch.sum(tensor_2d, dim=-2) - torch.diagonal(tensor_2d) \n",
    "    # keep_indices = torch.tensor(range(100))[~torch.isin(torch.tensor(range(100)), eliminate_indices)]\n",
    "    keep_indices = torch.argsort(sum_list)[-desired_length:] \n",
    "    print(\"sum_list.shape\", sum_list.shape)\n",
    "    \n",
    "    # Add : later for dimension format\n",
    "    print(\"keepindices.shape\", keep_indices.shape)\n",
    "    tensor_eliminated = tensor_2d[keep_indices][:, keep_indices]\n",
    "    return tensor_eliminated\n",
    "\n",
    "eliminate_frames(tensor_2d, 90)"
   ]
  },
  {
   "cell_type": "code",
   "execution_count": 144,
   "metadata": {},
   "outputs": [
    {
     "name": "stdout",
     "output_type": "stream",
     "text": [
      "tensor([[[[0.6567, 0.4544, 0.0739, 0.1156, 0.2893],\n",
      "          [0.1070, 0.2347, 0.0941, 0.0122, 0.3473],\n",
      "          [0.8115, 0.8089, 0.1653, 0.4264, 0.0856],\n",
      "          [0.1094, 0.6539, 0.3113, 0.1869, 0.4624],\n",
      "          [0.4149, 0.5288, 0.8059, 0.7772, 0.4932]],\n",
      "\n",
      "         [[0.4842, 0.4247, 0.7233, 0.1519, 0.4604],\n",
      "          [0.1028, 0.1991, 0.3812, 0.7244, 0.2655],\n",
      "          [0.8306, 0.3553, 0.5770, 0.6246, 0.3571],\n",
      "          [0.6791, 0.1092, 0.5737, 0.3948, 0.2869],\n",
      "          [0.9413, 0.8814, 0.1266, 0.6658, 0.0695]]],\n",
      "\n",
      "\n",
      "        [[[0.2900, 0.5260, 0.1316, 0.3836, 0.0215],\n",
      "          [0.1216, 0.1701, 0.9455, 0.4624, 0.5055],\n",
      "          [0.4775, 0.3073, 0.4956, 0.1203, 0.1343],\n",
      "          [0.7602, 0.2926, 0.6492, 0.5469, 0.1954],\n",
      "          [0.6509, 0.5519, 0.3704, 0.7545, 0.6853]],\n",
      "\n",
      "         [[0.3599, 0.8620, 0.0731, 0.6629, 0.9526],\n",
      "          [0.8854, 0.9016, 0.1605, 0.0291, 0.4890],\n",
      "          [0.4297, 0.4537, 0.6170, 0.5924, 0.7929],\n",
      "          [0.3188, 0.0508, 0.7596, 0.5502, 0.3539],\n",
      "          [0.2218, 0.8763, 0.6461, 0.4626, 0.0269]]]])\n",
      "tensor([1, 2, 4])\n",
      "tensor([1, 2, 4])\n",
      "tensor([3, 2, 0])\n",
      "tensor([0, 2, 3])\n",
      "tensor([4, 1, 3])\n",
      "tensor([1, 3, 4])\n",
      "tensor([1, 0, 4])\n",
      "tensor([0, 1, 4])\n",
      "tensor_eliminated.shape is  torch.Size([2, 2, 3, 3])\n",
      "tensor([[[[0.2347, 0.0941, 0.3473],\n",
      "          [0.8089, 0.1653, 0.0856],\n",
      "          [0.5288, 0.8059, 0.4932]],\n",
      "\n",
      "         [[0.4842, 0.7233, 0.1519],\n",
      "          [0.8306, 0.5770, 0.6246],\n",
      "          [0.6791, 0.5737, 0.3948]]],\n",
      "\n",
      "\n",
      "        [[[0.1701, 0.4624, 0.5055],\n",
      "          [0.2926, 0.5469, 0.1954],\n",
      "          [0.5519, 0.7545, 0.6853]],\n",
      "\n",
      "         [[0.3599, 0.8620, 0.9526],\n",
      "          [0.8854, 0.9016, 0.4890],\n",
      "          [0.2218, 0.8763, 0.0269]]]])\n"
     ]
    }
   ],
   "source": [
    "\n",
    "\n",
    "def eliminate_frames_4d(tensor_4d, desired_length):\n",
    "    '''For least relative node/frame elimination'''\n",
    "    # Sum all frames' values both horizontally and vertically\n",
    "    sum_list = torch.sum(tensor_4d, dim=-1) + torch.sum(tensor_4d, dim=-2) - torch.diagonal(tensor_4d, dim1=-1, dim2=-2) \n",
    "    # keep_indices = torch.tensor(range(100))[~torch.isin(torch.tensor(range(100)), eliminate_indices)]\n",
    "    keep_indices = torch.argsort(sum_list)[:, :, -desired_length:]\n",
    "    tensor_eliminated = torch.Tensor(tensor_4d.shape[0],tensor_4d.shape[1], desired_length,desired_length)\n",
    "    # Add : later for dimension format\n",
    "    # print(\"keepindices.shape\", keep_indices)\n",
    "    for i in range(tensor_4d.shape[0]):\n",
    "        for j in range(tensor_4d.shape[1]):\n",
    "            # print(keep_indices[i][j])\n",
    "            keep_indices[i][j], _ = torch.sort(keep_indices[i][j])\n",
    "            # print(keep_indices[i][j])\n",
    "            \n",
    "            tensor_eliminated[i][j] = tensor_4d[i][j][keep_indices[i][j]][:, keep_indices[i][j]]\n",
    "    # print(\"tensor_eliminated.shape is \", tensor_eliminated.shape)\n",
    "    return tensor_eliminated\n",
    "\n",
    "tensor_4d = torch.rand(2, 2, 5, 5)\n",
    "print(tensor_4d)\n",
    "tensor_eliminated= eliminate_frames_4d(tensor_4d, 3)\n",
    "print(tensor_eliminated)"
   ]
  },
  {
   "cell_type": "code",
   "execution_count": null,
   "metadata": {},
   "outputs": [],
   "source": []
  }
 ],
 "metadata": {
  "kernelspec": {
   "display_name": "Python 3",
   "language": "python",
   "name": "python3"
  },
  "language_info": {
   "codemirror_mode": {
    "name": "ipython",
    "version": 3
   },
   "file_extension": ".py",
   "mimetype": "text/x-python",
   "name": "python",
   "nbconvert_exporter": "python",
   "pygments_lexer": "ipython3",
   "version": "3.10.12"
  }
 },
 "nbformat": 4,
 "nbformat_minor": 2
}
